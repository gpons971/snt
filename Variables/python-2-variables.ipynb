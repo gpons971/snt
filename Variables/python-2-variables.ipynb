{
 "cells": [
  {
   "cell_type": "markdown",
   "metadata": {
    "slideshow": {
     "slide_type": "-"
    }
   },
   "source": [
    "# Thème 1 - Séance 2 - Les variables"
   ]
  },
  {
   "cell_type": "markdown",
   "metadata": {
    "slideshow": {
     "slide_type": "slide"
    }
   },
   "source": [
    "# 1. Variables\n",
    "L'ordinateur doit stocker des informations en mémoire, comme des nombres, des listes,etc. et il doit les retrouver ! On crée donc un nom pour référencer une information contenue en mémoire.\n",
    "\n",
    "Considérons à l'oral l'expression **\"nous allons stocker le prix d'un café dans une variable `a`, qui vaudra donc au départ 2.\"**  \n",
    "\n",
    "- Dans le problème que l'on cherche à modéliser, le prix du café est une donnée importante, qui va peut-être évoluer (ou pas !).\n",
    "- Pour la manipuler plus simplement, on va la désigner par un nom, le **nom de la variable**, ici `a`.\n",
    "- Comme en mathématiques, le nom de cette variable va désigner une valeur qui peut changer (*varier*) au cours du temps (ou pas).\n",
    "- Cette valeur est fixée *au départ* à 2. On dira en informatique qu'elle est **initialisée** à 2.\n",
    "- Si cette valeur ne change pas, on dira qu'elle est constante. Cela peut paraître inutile de donner un nom à quelque chose qui ne change pas, mais cela est très utile de définir les constantes au début d'un programme. \n",
    "\n",
    "On code en Python la phrase précédente par :  \n",
    "```python\n",
    "a = 2\n",
    "```\n",
    "\n",
    "**Attention !!!** Le symbole `=` ici utilisé n'a **rien à voir** avec le symbole = utilisé en mathématique. On dit qu'on a **affecté** à `a` la valeur 2, et il faut se représenter mentalement cette action par l'écriture `a ← 2`.  \n",
    "\n",
    "Une fois la valeur 2 stockée dans la variable `a`, on peut alors utiliser cette variable :\n",
    "\n",
    "```python\n",
    ">>> a\n",
    "2\n",
    ">>> a + 5\n",
    "7\n",
    ">>> b\n",
    "Traceback (most recent call last):\n",
    "  File \"<pyshell>\", line 1, in <module>\n",
    "NameError: name 'b' is not defined\n",
    "```\n",
    "\n",
    "Notez l'erreur de la ligne 5 : on a fait appel à une variable `b` qui n'avait jamais été définie, comme le dit explicitement le message `NameError: name 'b' is not defined` "
   ]
  },
  {
   "cell_type": "markdown",
   "metadata": {
    "slideshow": {
     "slide_type": "slide"
    }
   },
   "source": [
    "# 2. Fonctionnement de l'affectation\n",
    "Il est possible d'expliquer le fonctionnement interne de l'affectation des variables par la **métaphore des tiroirs** :\n",
    "\n",
    "Écrire  l'instruction :\n",
    "```python\n",
    "a = 2\n",
    "```\n",
    "\n",
    "va provoquer chez l'ordinateur le comportement suivant :\n",
    "\n",
    "- Est-ce que je possède **déjà** un tiroir appelé `a` ? \n",
    "    - si oui, je me positionne devant.\n",
    "    - si non, je crée un tiroir appelé `a`.\n",
    "- J'ouvre le tiroir et j'y dépose la valeur numérique 2. Si le tiroir contenait déjà une valeur, celle-ci disparaît (on dit qu'elle est **écrasée**).\n",
    "\n",
    "<img src=\"img/tiroirs.png\" width=600>\n",
    "\n",
    "Cette explication est suffisante pour aborder la notion de variable : c'est un mot (ou une lettre) qui va désigner une valeur.  \n",
    "Plus précisément, Une **variable** est un identificateur associé à une valeur. En Python, c'est une **référence d'objet**.  \n",
    "\n",
    "On représente ce mécanisme d'affectation par un cercle qui contient un nom de référence et un rectangle une valeur.    \n",
    "<img src=\"img/affectation.png\" width=300>\n",
    "\n",
    "## Une histoire en 2 temps : évaluation, affectation\n",
    "Observons l'instruction :\n",
    "```Python  \n",
    ">>> a = 2 + 3  \n",
    "```\n",
    "**Étape 1 : l'évaluation**  \n",
    "Python va prendre la partie à droite du signe égal et va l'évaluer, ce qui signifie qu'il va essayer de lui donner une valeur. Dans nos exemples, cette valeur sera numérique, mais elle peut être d'un autre type (voir plus loin).  \n",
    "Ici, Python effectue le calcul `2 + 3` et l'évalue à la valeur `5`.\n",
    "\n",
    "**Étape 2 : l'affectation**  \n",
    "Une fois évaluée l'expression à droite du signe `=`, il ne reste plus qu'à l'affecter à la variable (déjà existante ou pas) située à gauche du signe `=`.  \n",
    "Comme expliqué précédemment, un «lien» est fait entre le nom de la variable et la valeur évaluée. `a` sera donc lié à la valeur `5`. Plus simplement, on dira que «`a` vaut `5`»."
   ]
  },
  {
   "cell_type": "markdown",
   "metadata": {},
   "source": [
    "# 3. L'incrémentation d'une variable\n",
    "**\"Incrémenter\"** une variable signifie l'augmenter.  \n",
    "Imaginons une variable appelée `compteur`. Au démarrage de notre programme, elle est initialisée à la valeur 0.\n",
    "```Python  \n",
    ">>> compteur = 0  \n",
    "```\n",
    "Considérons qu'à un moment du programme, cette variable doit être modifiée, par exemple en lui ajoutant 1.  \n",
    "En Python, cela s'écrira :\n",
    "```Python  \n",
    ">>> compteur = compteur + 1  \n",
    "```  \n",
    "Voilà comment est interprétée la commande `compteur = compteur + 1`  \n",
    "+ On évalue la partie droite de l'égalité, donc l'expression `compteur + 1`.  \n",
    "+ On va donc chercher le contenu de la variable `compteur`. Si celle-ci n'existe pas, un message d'erreur est renvoyé.  \n",
    "+ On additionne `1` au contenu de la variable `compteur`.\n",
    "+ On écrase le contenu actuel de la variable `compteur` avec la valeur obtenue au 3.\n",
    "+ À la fin de ces opérations, la variable `compteur` a bien augmenté de 1.  \n",
    "\n",
    "## Exercice 1 \n",
    "Écrire le code \"classique\" pour l'instruction suivante :  \n",
    "On initialise une variable `score` à `100` et on l'augmente de `15`.  \n",
    "\n",
    "## Exercice 2 \n",
    "Écrire le code pour l'instruction suivante :   \n",
    "On initialise une variable `cellule` à 1 et on la multiplie par 2."
   ]
  },
  {
   "cell_type": "code",
   "execution_count": null,
   "metadata": {},
   "outputs": [],
   "source": []
  },
  {
   "cell_type": "code",
   "execution_count": null,
   "metadata": {},
   "outputs": [],
   "source": []
  },
  {
   "cell_type": "markdown",
   "metadata": {
    "slideshow": {
     "slide_type": "slide"
    }
   },
   "source": [
    "# 4. Tableau d'état des variables\n",
    "Pour comprendre un algorithme, on peut exécuter les instructions une à une, comme le ferait une machine, et réaliser un tableau pour suivre au fur et à mesure l'évolution des contenus des variables.  \n",
    "\n",
    "## Exercice 3\n",
    "Exécuter cet algorithme **\"à la main\"** en complétant le tableau des variables.  \n",
    "<img src=\"img/exemple1.png\" width=800>  \n",
    "\n",
    "## Exercice 4\n",
    "On définit deux variables par `a = 9` et `b = 11`. On souhaite échanger le contenu de `a` et `b`.    \n",
    "Quelles instructions conviennent de sorte qu'à la fin `a` vaut `11` et `b` vaut `9` ?  \n",
    "<img src=\"img/exemple2.png\" width=600>"
   ]
  },
  {
   "cell_type": "code",
   "execution_count": null,
   "metadata": {},
   "outputs": [],
   "source": []
  },
  {
   "cell_type": "code",
   "execution_count": null,
   "metadata": {},
   "outputs": [],
   "source": []
  },
  {
   "cell_type": "markdown",
   "metadata": {
    "slideshow": {
     "slide_type": "slide"
    }
   },
   "source": [
    "# 5. Opérations arithmétiques\n",
    "Tester les commandes suivantes.\n",
    "\n",
    "```Python  \n",
    ">>>  1 + 1      # Effectue le calcul 1+1 et affiche le résultat  \n",
    ">>>  7 * 5      # Effectue le calcul 7x5 et affiche le résultat  \n",
    ">>>  23 / 10    # Effectue le calcul 23:10 et affiche le résultat  \n",
    ">>>  23 // 10   # Récupère le quotient de la division euclidienne de 23 par 10  \n",
    ">>>  23 % 10    # Récupère le reste de la division euclidienne de 23 par 10  \n",
    ">>>  4 / 3             # Effectue le calcul 4:3    \n",
    ">>>  round(4 / 3)      # Arrondit à l’unité  \n",
    ">>>  round(4 / 3 , 2)  # Arrondit au centième  \n",
    ">>>  10 ** 5    # ** correspond à la puissance  \n",
    "\n",
    "Pour certaines commandes, il faut d’abord importer le module \"math\".  \n",
    ">>>  from math import*  \n",
    ">>>  sqrt(2)    # Racine carrée   \n",
    "\n",
    "Pour générer des nombres aléatoires, il faut d’abord importer le module \"random\".  \n",
    ">>>  from random import*  \n",
    ">>>  random()      # Génère un nombre réel aléatoire entre 0 et 1  \n",
    ">>>  randint(1,6)  # Génère un nombre entier aléatoire entre 1 et 6  \n",
    "\n",
    "```"
   ]
  },
  {
   "cell_type": "code",
   "execution_count": null,
   "metadata": {},
   "outputs": [],
   "source": []
  },
  {
   "cell_type": "markdown",
   "metadata": {
    "slideshow": {
     "slide_type": "slide"
    }
   },
   "source": [
    "# 6. Variables et types de données\n",
    "Tester les commandes suivantes.  \n",
    "```Python  \n",
    ">>>  a=123     # Initialise la variable a à 123  \n",
    ">>>  a         # Affiche le contenu de la variable a  \n",
    ">>>  print(a)  # Affiche le contenu de la variable a  \n",
    ">>>  type(a)   # Affiche le type de la variable a  \n",
    "\n",
    ">>>  b=1.23     >>>  c=\"Bonjour\"     >>>  d=(5<3)     >>>  e=[1,2,3,4]    \n",
    ">>>  print(b)   >>>  print(c)        >>>  print(d)    >>>  print(e)  \t\n",
    ">>>  type(b)    >>>  type(c)         >>>  type(d)     >>>  type(e)  \n",
    "```\n",
    "Quand on affecte un contenu à une variable, elle prend le type de l’objet qu’elle contient (**typage dynamique**).  \n",
    "\n",
    "<img src=\"img/type.png\" width=600>"
   ]
  },
  {
   "cell_type": "code",
   "execution_count": null,
   "metadata": {},
   "outputs": [],
   "source": []
  },
  {
   "cell_type": "markdown",
   "metadata": {
    "slideshow": {
     "slide_type": "slide"
    }
   },
   "source": [
    "# 7. Booléens\n",
    "Un **booléen** est une donnée qui vaut soit la valeur **\"vrai\"**, soit la valeur «**\"Faux\"**. En Python les valeurs sont `True` et `False` (avec une majuscule).  \n",
    "On obtient un booléen par exemple comme résultat de la comparaison de deux nombres. Par exemple `7 < 4` vaut `False` (car 7 n’est pas plus petit que 4).   \n",
    "\n",
    "Voici les principales **comparaisons** :\n",
    "+ Test d’égalité : `a == b`\n",
    "+ Test inférieur strict : `a < b`\n",
    "+ Test inférieur large : `a <= b` \n",
    "+ Test supérieur : `a>b` ou `a>=b` \n",
    "+ Test non égalité : `a != b`  \n",
    "\n",
    "Par exemple `6*7 == 42` vaut `True`.  \n",
    "\n",
    "**Attention !** L’erreur classique est de confondre « **a = b** » et « **a == b** ».  \n",
    "+ **Affectation** : `a = b` met le contenu de la variable `b` dans la variable `a`.\n",
    "+ **Test d’égalité** : `a == b` teste si les contenus de `a` et de `b` sont égaux et vaut `True` ou `False`.\n",
    "\n",
    "\n",
    "**Opérateurs logiques**  \n",
    "Voici les tables de vérité des opérateurs `not`, `or` et `and` :    \n",
    "<img src=\"img/bool.png\" width=600>  \n",
    "\n",
    "**Exemples**\n",
    "```Python  \n",
    ">>>  (3 == 3) or (9 > 24)  \n",
    ">>>  (9 > 24) and (3 == 3)  \n",
    "```\n",
    " "
   ]
  },
  {
   "cell_type": "code",
   "execution_count": null,
   "metadata": {},
   "outputs": [],
   "source": []
  },
  {
   "cell_type": "markdown",
   "metadata": {
    "slideshow": {
     "slide_type": "slide"
    }
   },
   "source": [
    "# 8. Entrées et sorties \n",
    "Pour communiquer avec l'ordinateur, l'utilisateur peut saisir des valeurs (les **entrées**) et faire afficher le contenu des variables (les **sorties**).    \n",
    "La commande `input()` permet une saisie en mode texte que l’on peut ensuite transtyper (changer de type).\n",
    "```Python \n",
    ">>>  message = input(\"Saisissez votre message\")  \n",
    ">>>  a = float(input(\"Saisissez un nombre réel\"))  \n",
    ">>>  b = int(input(\"Saisissez un nombre entier\"))  \n",
    "```  \n",
    "On peut faire afficher plusieurs objets à la suite en Python.  \n",
    "Ci-dessous un texte, entre guillemets, suivi du contenu de `c`.  \n",
    "```Python  \n",
    ">>>  c = 3    \n",
    ">>>  print(\"la valeur de c est \", c)  \n",
    "``` "
   ]
  },
  {
   "cell_type": "code",
   "execution_count": null,
   "metadata": {},
   "outputs": [],
   "source": []
  },
  {
   "cell_type": "code",
   "execution_count": null,
   "metadata": {},
   "outputs": [],
   "source": []
  },
  {
   "cell_type": "markdown",
   "metadata": {
    "slideshow": {
     "slide_type": "slide"
    }
   },
   "source": [
    "## Exercice 5\n",
    "Ecrire un algorithme qui demande à l’utilisateur de saisir la longueur et la largeur d’un rectangle et qui affiche son aire.  \n",
    "\n",
    "## Exercice 6\n",
    "On considère l'algorithme suivant :  \n",
    "*Choisir un nombre entier n*  \n",
    "*Lui soustraire 4*  \n",
    "*Multiplier le résultat obtenu par le nombre n choisi*  \n",
    "*Ajouter 4 à ce produit*  \n",
    "*Afficher le résultat*  \n",
    "\n",
    "Implémenter puis tester cet algorithme."
   ]
  },
  {
   "cell_type": "code",
   "execution_count": null,
   "metadata": {
    "slideshow": {
     "slide_type": "slide"
    }
   },
   "outputs": [],
   "source": []
  },
  {
   "cell_type": "code",
   "execution_count": null,
   "metadata": {},
   "outputs": [],
   "source": []
  }
 ],
 "metadata": {
  "celltoolbar": "Format de la Cellule Texte Brut",
  "kernelspec": {
   "display_name": "Python 3",
   "language": "python",
   "name": "python3"
  },
  "language_info": {
   "codemirror_mode": {
    "name": "ipython",
    "version": 3
   },
   "file_extension": ".py",
   "mimetype": "text/x-python",
   "name": "python",
   "nbconvert_exporter": "python",
   "pygments_lexer": "ipython3",
   "version": "3.7.6"
  }
 },
 "nbformat": 4,
 "nbformat_minor": 4
}
